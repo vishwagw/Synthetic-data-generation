{
 "cells": [
  {
   "cell_type": "code",
   "execution_count": 1,
   "id": "5d73adac",
   "metadata": {},
   "outputs": [],
   "source": [
    "import numpy as np\n",
    "import pandas as pd"
   ]
  },
  {
   "cell_type": "code",
   "execution_count": 2,
   "id": "ccb09264",
   "metadata": {},
   "outputs": [
    {
     "data": {
      "text/html": [
       "<div>\n",
       "<style scoped>\n",
       "    .dataframe tbody tr th:only-of-type {\n",
       "        vertical-align: middle;\n",
       "    }\n",
       "\n",
       "    .dataframe tbody tr th {\n",
       "        vertical-align: top;\n",
       "    }\n",
       "\n",
       "    .dataframe thead th {\n",
       "        text-align: right;\n",
       "    }\n",
       "</style>\n",
       "<table border=\"1\" class=\"dataframe\">\n",
       "  <thead>\n",
       "    <tr style=\"text-align: right;\">\n",
       "      <th></th>\n",
       "      <th>Height</th>\n",
       "      <th>Weight</th>\n",
       "    </tr>\n",
       "  </thead>\n",
       "  <tbody>\n",
       "    <tr>\n",
       "      <th>count</th>\n",
       "      <td>1000.000000</td>\n",
       "      <td>1000.000000</td>\n",
       "    </tr>\n",
       "    <tr>\n",
       "      <th>mean</th>\n",
       "      <td>170.098026</td>\n",
       "      <td>70.169678</td>\n",
       "    </tr>\n",
       "    <tr>\n",
       "      <th>std</th>\n",
       "      <td>10.218193</td>\n",
       "      <td>16.018454</td>\n",
       "    </tr>\n",
       "    <tr>\n",
       "      <th>min</th>\n",
       "      <td>138.498354</td>\n",
       "      <td>19.000044</td>\n",
       "    </tr>\n",
       "    <tr>\n",
       "      <th>25%</th>\n",
       "      <td>163.655024</td>\n",
       "      <td>59.274098</td>\n",
       "    </tr>\n",
       "    <tr>\n",
       "      <th>50%</th>\n",
       "      <td>170.092488</td>\n",
       "      <td>70.155016</td>\n",
       "    </tr>\n",
       "    <tr>\n",
       "      <th>75%</th>\n",
       "      <td>176.912985</td>\n",
       "      <td>81.350881</td>\n",
       "    </tr>\n",
       "    <tr>\n",
       "      <th>max</th>\n",
       "      <td>198.238565</td>\n",
       "      <td>118.610476</td>\n",
       "    </tr>\n",
       "  </tbody>\n",
       "</table>\n",
       "</div>"
      ],
      "text/plain": [
       "            Height       Weight\n",
       "count  1000.000000  1000.000000\n",
       "mean    170.098026    70.169678\n",
       "std      10.218193    16.018454\n",
       "min     138.498354    19.000044\n",
       "25%     163.655024    59.274098\n",
       "50%     170.092488    70.155016\n",
       "75%     176.912985    81.350881\n",
       "max     198.238565   118.610476"
      ]
     },
     "execution_count": 2,
     "metadata": {},
     "output_type": "execute_result"
    }
   ],
   "source": [
    "# generate 1000 samples from a normal distributions\n",
    "heights = np.random.normal(loc=170, scale=10, size=1000)\n",
    "weights = np.random.normal(loc=70, scale=15, size=1000)\n",
    "\n",
    "# Create a new correlation between height and weight. \n",
    "weights += (heights - 170) * 0.5\n",
    "df = pd.DataFrame({'Height': heights, 'Weight': weights})\n",
    "\n",
    "# add categorial data :\n",
    "genders = np.random.choice(['Male', 'Female'], size=1000)\n",
    "df['Gender'] = genders\n",
    "df.head()\n",
    "df.describe()"
   ]
  }
 ],
 "metadata": {
  "kernelspec": {
   "display_name": "Python 3",
   "language": "python",
   "name": "python3"
  },
  "language_info": {
   "codemirror_mode": {
    "name": "ipython",
    "version": 3
   },
   "file_extension": ".py",
   "mimetype": "text/x-python",
   "name": "python",
   "nbconvert_exporter": "python",
   "pygments_lexer": "ipython3",
   "version": "3.11.3"
  }
 },
 "nbformat": 4,
 "nbformat_minor": 5
}
