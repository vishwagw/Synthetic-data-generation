{
 "cells": [
  {
   "cell_type": "code",
   "execution_count": null,
   "id": "59516bd0",
   "metadata": {},
   "outputs": [],
   "source": [
    "import numpy as np\n",
    "import pandas as pd\n",
    "import random\n",
    "import simpy"
   ]
  },
  {
   "cell_type": "code",
   "execution_count": 5,
   "id": "9ef75329",
   "metadata": {},
   "outputs": [],
   "source": [
    "# creating class1:\n",
    "class Bank(object):\n",
    "    def __init__(self, env, num_tellers):\n",
    "        self.env = env\n",
    "        self.teller = simpy.Resource(env, num_tellers)\n",
    "       \n",
    "    def service(self, customer):\n",
    "        service_time = random.expovariate(1/10)  # Avg service time of 10 minutes\n",
    "        yield self.env.timeout(service_time)"
   ]
  },
  {
   "cell_type": "code",
   "execution_count": 4,
   "id": "53a35ba0",
   "metadata": {},
   "outputs": [],
   "source": [
    "# function for customer data:\n",
    "def customer(env, name, bank, data):\n",
    "    arrival_time = env.now\n",
    "    print(f'{name} arrives at the bank at {arrival_time:.2f}')\n",
    "   \n",
    "    with bank.teller.request() as request:\n",
    "        yield request\n",
    "        wait_time = env.now - arrival_time\n",
    "        print(f'{name} waits for {wait_time:.2f}')\n",
    "       \n",
    "        yield env.process(bank.service(name))\n",
    "       \n",
    "        service_time = env.now - arrival_time\n",
    "        print(f'{name} leaves the bank at {env.now:.2f}')\n",
    "   \n",
    "    # Append the customer data to the list\n",
    "    data.append((name, arrival_time, wait_time, service_time))"
   ]
  },
  {
   "cell_type": "code",
   "execution_count": 3,
   "id": "b50027fb",
   "metadata": {},
   "outputs": [],
   "source": [
    "# running the simulation:\n",
    "def run_simulation(env, num_customers, bank, data):\n",
    "    for i in range(num_customers):\n",
    "        env.process(customer(env, f'Customer {i}', bank, data))\n",
    "        yield env.timeout(random.expovariate(1/5))  # New customer every 5 minutes on average\n"
   ]
  },
  {
   "cell_type": "code",
   "execution_count": null,
   "id": "bcbd52d5",
   "metadata": {},
   "outputs": [],
   "source": [
    "# Set up and run the simulation\n",
    "env = simpy.Environment()\n",
    "bank = Bank(env, num_tellers=3)\n",
    "num_customers = 100\n",
    "data = []  # This will hold the customer data\n",
    "env.process(run_simulation(env, num_customers, bank, data))\n",
    "env.run()\n",
    "\n",
    "# Create a DataFrame from the collected data\n",
    "df = pd.DataFrame(data, columns=['Customer', 'ArrivalTime', 'WaitTime', 'ServiceTime'])\n",
    "print(df.head())\n",
    "print(df.describe())"
   ]
  }
 ],
 "metadata": {
  "kernelspec": {
   "display_name": "Python 3",
   "language": "python",
   "name": "python3"
  },
  "language_info": {
   "codemirror_mode": {
    "name": "ipython",
    "version": 3
   },
   "file_extension": ".py",
   "mimetype": "text/x-python",
   "name": "python",
   "nbconvert_exporter": "python",
   "pygments_lexer": "ipython3",
   "version": "3.11.3"
  }
 },
 "nbformat": 4,
 "nbformat_minor": 5
}
