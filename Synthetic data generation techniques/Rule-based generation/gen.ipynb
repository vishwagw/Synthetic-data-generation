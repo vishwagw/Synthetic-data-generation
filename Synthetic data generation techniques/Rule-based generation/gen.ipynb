{
 "cells": [
  {
   "cell_type": "code",
   "execution_count": 1,
   "id": "8dbd166c",
   "metadata": {},
   "outputs": [],
   "source": [
    "import numpy as np\n",
    "import pandas as pd"
   ]
  },
  {
   "cell_type": "code",
   "execution_count": 2,
   "id": "ac7d4570",
   "metadata": {},
   "outputs": [],
   "source": [
    "# customer data generator function:\n",
    "# function for custom data generator:\n",
    "def generate_customer_data(num_records):\n",
    "    data = []\n",
    "    for _ in range(num_records):\n",
    "        age = np.random.randint(18, 80)\n",
    "       \n",
    "        # Rule: Income is loosely based on age\n",
    "        base_income = 20000 + (age - 18) * 1000\n",
    "        income = np.random.normal(base_income, base_income * 0.2)\n",
    "       \n",
    "        # Rule: Credit score is influenced by age and income\n",
    "        credit_score = min(850, max(300, int(600 + (age/80)*100 + (income/100000)*100 + np.random.normal(0, 50))))\n",
    "       \n",
    "        # Rule: Loan amount is based on income and credit score\n",
    "        max_loan = income * (credit_score / 600)\n",
    "        loan_amount = np.random.uniform(0, max_loan)\n",
    "       \n",
    "        data.append([age, income, credit_score, loan_amount])\n",
    "   \n",
    "    return pd.DataFrame(data, columns=['Age', 'Income', 'CreditScore', 'LoanAmount'])\n"
   ]
  },
  {
   "cell_type": "code",
   "execution_count": 3,
   "id": "adbbdf02",
   "metadata": {},
   "outputs": [
    {
     "data": {
      "text/html": [
       "<div>\n",
       "<style scoped>\n",
       "    .dataframe tbody tr th:only-of-type {\n",
       "        vertical-align: middle;\n",
       "    }\n",
       "\n",
       "    .dataframe tbody tr th {\n",
       "        vertical-align: top;\n",
       "    }\n",
       "\n",
       "    .dataframe thead th {\n",
       "        text-align: right;\n",
       "    }\n",
       "</style>\n",
       "<table border=\"1\" class=\"dataframe\">\n",
       "  <thead>\n",
       "    <tr style=\"text-align: right;\">\n",
       "      <th></th>\n",
       "      <th>Age</th>\n",
       "      <th>Income</th>\n",
       "      <th>CreditScore</th>\n",
       "      <th>LoanAmount</th>\n",
       "    </tr>\n",
       "  </thead>\n",
       "  <tbody>\n",
       "    <tr>\n",
       "      <th>0</th>\n",
       "      <td>34</td>\n",
       "      <td>31932.019395</td>\n",
       "      <td>769</td>\n",
       "      <td>25750.157727</td>\n",
       "    </tr>\n",
       "    <tr>\n",
       "      <th>1</th>\n",
       "      <td>39</td>\n",
       "      <td>21788.683685</td>\n",
       "      <td>641</td>\n",
       "      <td>19064.610977</td>\n",
       "    </tr>\n",
       "    <tr>\n",
       "      <th>2</th>\n",
       "      <td>64</td>\n",
       "      <td>85583.785883</td>\n",
       "      <td>823</td>\n",
       "      <td>87624.814679</td>\n",
       "    </tr>\n",
       "    <tr>\n",
       "      <th>3</th>\n",
       "      <td>62</td>\n",
       "      <td>84953.436882</td>\n",
       "      <td>850</td>\n",
       "      <td>4419.643361</td>\n",
       "    </tr>\n",
       "    <tr>\n",
       "      <th>4</th>\n",
       "      <td>21</td>\n",
       "      <td>19242.628998</td>\n",
       "      <td>670</td>\n",
       "      <td>6480.806912</td>\n",
       "    </tr>\n",
       "  </tbody>\n",
       "</table>\n",
       "</div>"
      ],
      "text/plain": [
       "   Age        Income  CreditScore    LoanAmount\n",
       "0   34  31932.019395          769  25750.157727\n",
       "1   39  21788.683685          641  19064.610977\n",
       "2   64  85583.785883          823  87624.814679\n",
       "3   62  84953.436882          850   4419.643361\n",
       "4   21  19242.628998          670   6480.806912"
      ]
     },
     "execution_count": 3,
     "metadata": {},
     "output_type": "execute_result"
    }
   ],
   "source": [
    "# data generation and display:\n",
    "df = generate_customer_data(1000)\n",
    "df.head()\n"
   ]
  }
 ],
 "metadata": {
  "kernelspec": {
   "display_name": "Python 3",
   "language": "python",
   "name": "python3"
  },
  "language_info": {
   "codemirror_mode": {
    "name": "ipython",
    "version": 3
   },
   "file_extension": ".py",
   "mimetype": "text/x-python",
   "name": "python",
   "nbconvert_exporter": "python",
   "pygments_lexer": "ipython3",
   "version": "3.11.3"
  }
 },
 "nbformat": 4,
 "nbformat_minor": 5
}
